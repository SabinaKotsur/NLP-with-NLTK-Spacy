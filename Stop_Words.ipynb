{
 "cells": [
  {
   "cell_type": "code",
   "execution_count": 1,
   "metadata": {},
   "outputs": [],
   "source": [
    "import spacy"
   ]
  },
  {
   "cell_type": "code",
   "execution_count": 2,
   "metadata": {},
   "outputs": [],
   "source": [
    "nlp = spacy.load(\"en_core_web_sm\")"
   ]
  },
  {
   "cell_type": "code",
   "execution_count": 3,
   "metadata": {},
   "outputs": [
    {
     "name": "stdout",
     "output_type": "stream",
     "text": [
      "{'with', 'further', 'seem', 'then', 'upon', 'empty', 'call', 'whose', 'since', 'those', 'such', 'whence', 'up', 'four', 'have', 'we', 'go', 'there', 'whether', 'become', 'out', 'namely', 'am', 'all', 'towards', \"'m\", 'below', 'get', 'please', 'something', 'in', 'same', 'latterly', 'hers', 'might', '‘d', 'together', 'afterwards', 'nine', 'take', 'twenty', 'were', 'few', '’s', 'does', 'myself', 'herself', 'make', 'hence', 'regarding', 'thereby', 'quite', 'least', 'whenever', 'six', 'could', 'noone', 'well', 'anywhere', 'nothing', '’ll', \"'ll\", 'an', 'either', 'when', '’ve', 'his', 'had', 'has', 'sometimes', 'became', 'or', 'until', 'being', 'than', 'therefore', 'also', 'he', 'themselves', 'to', 'unless', 'what', \"n't\", 'everything', 'cannot', 'somehow', 'should', 'ever', 'others', 'hereby', 'did', 'was', 'beforehand', 'another', 'against', 'not', 'herein', 'several', 'eleven', 'nowhere', 'anyone', 'they', 'n‘t', 'my', 'too', 'forty', 'of', 'one', 'both', 'across', 'me', 'yourselves', 'who', 'whereby', 'much', 'whoever', 'thereupon', '‘re', 'wherever', \"'d\", 'many', 'someone', 'this', 'at', 'ours', '‘m', 'whatever', 'these', 'its', 'our', 'you', 'how', 'do', 'serious', 'alone', 'enough', 'the', 'first', 'anyway', 'during', 'everywhere', 'never', 'sixty', 'per', 'down', 'because', 'keep', 'without', 'fifteen', 'neither', 'nobody', 'that', 'toward', 'around', 'just', 'under', 'some', 'last', 'nor', 'on', 'full', 'else', 'almost', 'again', 'name', 'less', 'mostly', 'a', 'whither', 'bottom', 'none', 'off', 'show', 'perhaps', 'it', 'her', 'elsewhere', 'everyone', \"'re\", 'becoming', 'done', 'more', 'hereafter', 'ourselves', 'whom', 'back', 'about', 'whereupon', 'seemed', 'already', 'made', 'before', 'various', 'former', 'them', 'now', 'other', '’m', 'thru', '‘s', 'front', 'must', 'otherwise', 'through', 'will', 'seeming', 'becomes', 'every', 'via', 'each', 'formerly', '’re', 'us', 'may', 'if', 'thereafter', 'no', 'rather', 'put', 'above', 'five', 'nevertheless', 'your', 'somewhere', 'side', 'by', 'sometime', 'anything', 'and', 'often', 'still', 'between', 'used', 'third', 'next', 'any', 'however', 'where', 'here', 'hereupon', 'once', 'moreover', 'most', 'after', '’d', 'always', 'seems', 'can', 'three', 'twelve', 'indeed', 'onto', 'own', 're', 'say', 'amount', 'even', 'him', 'except', 'whereafter', 'anyhow', 'doing', 'really', 'latter', 'is', 'been', 'yours', 'meanwhile', 'for', 'throughout', 'using', 'himself', 'move', 'part', 'so', 'whole', 'along', '‘ll', 'their', 'thence', 'amongst', 'thus', 'give', 'ca', 'therein', 'mine', 'besides', 'see', 'only', 'into', 'though', 'fifty', 'top', 'whereas', 'ten', 'within', 'behind', 'beside', 'why', '‘ve', 'eight', 'would', 'while', 'she', 'although', 'two', 'as', 'very', 'from', 'which', 'wherein', 'beyond', 'hundred', 'yet', 'but', \"'s\", 'over', 'yourself', 'n’t', 'among', 'i', 'be', 'itself', \"'ve\", 'due', 'are'}\n"
     ]
    }
   ],
   "source": [
    "print(nlp.Defaults.stop_words)"
   ]
  },
  {
   "cell_type": "code",
   "execution_count": 4,
   "metadata": {},
   "outputs": [
    {
     "data": {
      "text/plain": [
       "326"
      ]
     },
     "execution_count": 4,
     "metadata": {},
     "output_type": "execute_result"
    }
   ],
   "source": [
    "len(nlp.Defaults.stop_words)"
   ]
  },
  {
   "cell_type": "code",
   "execution_count": 5,
   "metadata": {},
   "outputs": [
    {
     "data": {
      "text/plain": [
       "False"
      ]
     },
     "execution_count": 5,
     "metadata": {},
     "output_type": "execute_result"
    }
   ],
   "source": [
    "nlp.vocab[\"hello\"].is_stop"
   ]
  },
  {
   "cell_type": "code",
   "execution_count": 6,
   "metadata": {},
   "outputs": [],
   "source": [
    "#adding a stop word\n",
    "\n",
    "nlp.Defaults.stop_words.add(\"btw\")"
   ]
  },
  {
   "cell_type": "code",
   "execution_count": 7,
   "metadata": {},
   "outputs": [],
   "source": [
    "nlp.vocab[\"btw\"].is_stop = True"
   ]
  },
  {
   "cell_type": "code",
   "execution_count": 8,
   "metadata": {},
   "outputs": [
    {
     "data": {
      "text/plain": [
       "327"
      ]
     },
     "execution_count": 8,
     "metadata": {},
     "output_type": "execute_result"
    }
   ],
   "source": [
    "len(nlp.Defaults.stop_words)"
   ]
  },
  {
   "cell_type": "code",
   "execution_count": null,
   "metadata": {},
   "outputs": [],
   "source": []
  }
 ],
 "metadata": {
  "kernelspec": {
   "display_name": "Python 3",
   "language": "python",
   "name": "python3"
  },
  "language_info": {
   "codemirror_mode": {
    "name": "ipython",
    "version": 3
   },
   "file_extension": ".py",
   "mimetype": "text/x-python",
   "name": "python",
   "nbconvert_exporter": "python",
   "pygments_lexer": "ipython3",
   "version": "3.7.3"
  }
 },
 "nbformat": 4,
 "nbformat_minor": 2
}
