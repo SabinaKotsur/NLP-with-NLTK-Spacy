{
 "cells": [
  {
   "cell_type": "code",
   "execution_count": 1,
   "metadata": {},
   "outputs": [],
   "source": [
    "import spacy "
   ]
  },
  {
   "cell_type": "code",
   "execution_count": 2,
   "metadata": {},
   "outputs": [],
   "source": [
    "nlp = spacy.load(\"en_core_web_sm\")"
   ]
  },
  {
   "cell_type": "code",
   "execution_count": 3,
   "metadata": {},
   "outputs": [],
   "source": [
    "doc = nlp(u\"I am a runner, running marathons everywhere. As a professional runner, I have run miles.\")"
   ]
  },
  {
   "cell_type": "code",
   "execution_count": 4,
   "metadata": {},
   "outputs": [
    {
     "name": "stdout",
     "output_type": "stream",
     "text": [
      "I t PRON 561228191312463089 t -PRON-\n",
      "am t AUX 10382539506755952630 t be\n",
      "a t DET 11901859001352538922 t a\n",
      "runner t NOUN 12640964157389618806 t runner\n",
      ", t PUNCT 2593208677638477497 t ,\n",
      "running t VERB 12767647472892411841 t run\n",
      "marathons t NOUN 15723742595721206403 t marathon\n",
      "everywhere t ADV 10957650314384693728 t everywhere\n",
      ". t PUNCT 12646065887601541794 t .\n",
      "As t SCONJ 7437575085468336610 t as\n",
      "a t DET 11901859001352538922 t a\n",
      "professional t ADJ 1628340908579922823 t professional\n",
      "runner t NOUN 12640964157389618806 t runner\n",
      ", t PUNCT 2593208677638477497 t ,\n",
      "I t PRON 561228191312463089 t -PRON-\n",
      "have t AUX 14692702688101715474 t have\n",
      "run t VERB 12767647472892411841 t run\n",
      "miles t NOUN 15996833532744392865 t mile\n",
      ". t PUNCT 12646065887601541794 t .\n"
     ]
    }
   ],
   "source": [
    "for token in doc:\n",
    "    print(token.text,\"t\", token.pos_,token.lemma,\"t\",token.lemma_)"
   ]
  },
  {
   "cell_type": "code",
   "execution_count": 5,
   "metadata": {},
   "outputs": [],
   "source": [
    "def show_lemmas(text):\n",
    "    for token in text:\n",
    "        print(f'{\"token.text\":{12}} {\"token.pos_\":{6}} {\"token.lemma\":<{212}} {\"token.lemma\":{10}}')"
   ]
  },
  {
   "cell_type": "code",
   "execution_count": 8,
   "metadata": {},
   "outputs": [],
   "source": [
    "doc2 = nlp(u\"I saw a beautiful owl yesterday\")"
   ]
  },
  {
   "cell_type": "code",
   "execution_count": 9,
   "metadata": {},
   "outputs": [
    {
     "name": "stdout",
     "output_type": "stream",
     "text": [
      "token.text   token.pos_ token.lemma                                                                                                                                                                                                          token.lemma\n",
      "token.text   token.pos_ token.lemma                                                                                                                                                                                                          token.lemma\n",
      "token.text   token.pos_ token.lemma                                                                                                                                                                                                          token.lemma\n",
      "token.text   token.pos_ token.lemma                                                                                                                                                                                                          token.lemma\n",
      "token.text   token.pos_ token.lemma                                                                                                                                                                                                          token.lemma\n",
      "token.text   token.pos_ token.lemma                                                                                                                                                                                                          token.lemma\n"
     ]
    }
   ],
   "source": [
    "show_lemmas(doc2)"
   ]
  },
  {
   "cell_type": "code",
   "execution_count": null,
   "metadata": {},
   "outputs": [],
   "source": []
  }
 ],
 "metadata": {
  "kernelspec": {
   "display_name": "Python 3",
   "language": "python",
   "name": "python3"
  },
  "language_info": {
   "codemirror_mode": {
    "name": "ipython",
    "version": 3
   },
   "file_extension": ".py",
   "mimetype": "text/x-python",
   "name": "python",
   "nbconvert_exporter": "python",
   "pygments_lexer": "ipython3",
   "version": "3.7.3"
  }
 },
 "nbformat": 4,
 "nbformat_minor": 2
}
